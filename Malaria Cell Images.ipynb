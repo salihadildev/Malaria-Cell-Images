{
 "cells": [
  {
   "cell_type": "markdown",
   "id": "081d64d2-d721-4bc0-97ff-55c7b2373bd5",
   "metadata": {},
   "source": [
    "# Image Classification with CNN for Malaria Data"
   ]
  },
  {
   "cell_type": "markdown",
   "id": "28ef9ef3-e9c4-42fd-a93e-b6a3ab8a033b",
   "metadata": {},
   "source": [
    "<img src='https://anmdecolombia.org.co/wp-content/uploads/2021/12/paludismo-malaria.jpg'>\n",
    "<a href='https://www.kaggle.com/datasets/iarunava/cell-images-for-detecting-malaria' target=_blank>Data dosyasini burada bulabilirsiniz</a>"
   ]
  },
  {
   "cell_type": "markdown",
   "id": "190607fb-2830-4c63-a0c3-29cf4e102597",
   "metadata": {},
   "source": [
    "* Malaria veriseti Infected - Uninfected sınıflarından yaklaşık 27 000 resim içerir, bu data setle geliştireceğimiz CNN - Keras modeliyle enfekte olup olmayanları resim üzerinden tespit edeceğiz, daha sonra modelimizi huggingface yükleyip modele veriğimiz resimlerin % 97 oranında doğru tahminde bulunmasını göreceğiz, çünkü modelimiz %97 başarı kaydetti, bir sonraki aşama olarak ta app inventor ile modelin ceptelefonuna uygulamasını yapacağız.  "
   ]
  },
  {
   "cell_type": "code",
   "execution_count": 1,
   "id": "0d915604-af6f-439d-9ccc-6b715827ff4a",
   "metadata": {},
   "outputs": [],
   "source": [
    "#!pip install tensorflow"
   ]
  },
  {
   "cell_type": "code",
   "execution_count": 6,
   "id": "fa82acdc-eee6-4e02-a187-ba6ec2e45164",
   "metadata": {},
   "outputs": [],
   "source": [
    "#!pip install opencv-python"
   ]
  },
  {
   "cell_type": "code",
   "execution_count": 2,
   "id": "1626f86f-069b-4ff3-bb9b-3228c1fc5d14",
   "metadata": {},
   "outputs": [],
   "source": [
    "import cv2\n",
    "import pandas as pd\n",
    "import numpy as np\n",
    "import matplotlib.pyplot as plt\n",
    "from sklearn.model_selection import train_test_split\n",
    "import os\n",
    "from keras.models import Sequential\n",
    "from keras.layers import Conv2D, Dense, Flatten, Input, MaxPooling2D, Dropout,BatchNormalization, Reshape"
   ]
  },
  {
   "cell_type": "code",
   "execution_count": 3,
   "id": "fc6bae8a-b493-4a50-ae03-ea50aa2650b9",
   "metadata": {},
   "outputs": [],
   "source": [
    "labels=['Uninfected','Parasitized'] #resimleri etiketledim\n",
    "img_path='cell_images/'"
   ]
  },
  {
   "cell_type": "code",
   "execution_count": 4,
   "id": "f9415cc4-0942-43c9-b0a0-96668ac65711",
   "metadata": {},
   "outputs": [],
   "source": [
    "img_list=[]                                            # img list ve etiketlerin olduğu bir fonksiyon yazıyoruz\n",
    "label_list=[]\n",
    "for label in labels:                                    #cell klasörüne gider\n",
    "    for img_file in os.listdir(img_path+label):         #listdir ile img klasörüne gidip alt dosyaları bulur\n",
    "        img_list.append(img_path+label+'/'+img_file)    #data dosyasındaki resimleri img dosyasına ekler\n",
    "        label_list.append(label)"
   ]
  },
  {
   "cell_type": "code",
   "execution_count": 5,
   "id": "6cd7f44d-e475-4791-b5c7-f9f725aa5e0b",
   "metadata": {},
   "outputs": [],
   "source": [
    "df=pd.DataFrame({'img':img_list,'label':label_list})"
   ]
  },
  {
   "cell_type": "code",
   "execution_count": 6,
   "id": "1d832dc1-4902-4f47-8b7a-4da67cf8e0ad",
   "metadata": {},
   "outputs": [
    {
     "data": {
      "text/html": [
       "<div>\n",
       "<style scoped>\n",
       "    .dataframe tbody tr th:only-of-type {\n",
       "        vertical-align: middle;\n",
       "    }\n",
       "\n",
       "    .dataframe tbody tr th {\n",
       "        vertical-align: top;\n",
       "    }\n",
       "\n",
       "    .dataframe thead th {\n",
       "        text-align: right;\n",
       "    }\n",
       "</style>\n",
       "<table border=\"1\" class=\"dataframe\">\n",
       "  <thead>\n",
       "    <tr style=\"text-align: right;\">\n",
       "      <th></th>\n",
       "      <th>img</th>\n",
       "      <th>label</th>\n",
       "    </tr>\n",
       "  </thead>\n",
       "  <tbody>\n",
       "    <tr>\n",
       "      <th>0</th>\n",
       "      <td>cell_images/Uninfected/C100P61ThinF_IMG_201509...</td>\n",
       "      <td>Uninfected</td>\n",
       "    </tr>\n",
       "    <tr>\n",
       "      <th>1</th>\n",
       "      <td>cell_images/Uninfected/C100P61ThinF_IMG_201509...</td>\n",
       "      <td>Uninfected</td>\n",
       "    </tr>\n",
       "    <tr>\n",
       "      <th>2</th>\n",
       "      <td>cell_images/Uninfected/C100P61ThinF_IMG_201509...</td>\n",
       "      <td>Uninfected</td>\n",
       "    </tr>\n",
       "    <tr>\n",
       "      <th>3</th>\n",
       "      <td>cell_images/Uninfected/C100P61ThinF_IMG_201509...</td>\n",
       "      <td>Uninfected</td>\n",
       "    </tr>\n",
       "    <tr>\n",
       "      <th>4</th>\n",
       "      <td>cell_images/Uninfected/C100P61ThinF_IMG_201509...</td>\n",
       "      <td>Uninfected</td>\n",
       "    </tr>\n",
       "  </tbody>\n",
       "</table>\n",
       "</div>"
      ],
      "text/plain": [
       "                                                 img       label\n",
       "0  cell_images/Uninfected/C100P61ThinF_IMG_201509...  Uninfected\n",
       "1  cell_images/Uninfected/C100P61ThinF_IMG_201509...  Uninfected\n",
       "2  cell_images/Uninfected/C100P61ThinF_IMG_201509...  Uninfected\n",
       "3  cell_images/Uninfected/C100P61ThinF_IMG_201509...  Uninfected\n",
       "4  cell_images/Uninfected/C100P61ThinF_IMG_201509...  Uninfected"
      ]
     },
     "execution_count": 6,
     "metadata": {},
     "output_type": "execute_result"
    }
   ],
   "source": [
    "df.head(5)"
   ]
  },
  {
   "cell_type": "code",
   "execution_count": 7,
   "id": "345b436b-81ee-4abe-9e84-17d9fc6e52d1",
   "metadata": {},
   "outputs": [],
   "source": [
    "d={'Uninfected':0, 'Parasitized':1}\n",
    "#sözlük oluşturup dosya adlarına sayısal değerler atadı."
   ]
  },
  {
   "cell_type": "code",
   "execution_count": 8,
   "id": "7e33b19f-e876-4db6-b9a3-e0e2290f98eb",
   "metadata": {},
   "outputs": [],
   "source": [
    "df['class']=df['label'].map(d)"
   ]
  },
  {
   "cell_type": "code",
   "execution_count": 9,
   "id": "3d892523-744a-4bcf-93c4-9c8a22c2118c",
   "metadata": {},
   "outputs": [
    {
     "data": {
      "text/html": [
       "<div>\n",
       "<style scoped>\n",
       "    .dataframe tbody tr th:only-of-type {\n",
       "        vertical-align: middle;\n",
       "    }\n",
       "\n",
       "    .dataframe tbody tr th {\n",
       "        vertical-align: top;\n",
       "    }\n",
       "\n",
       "    .dataframe thead th {\n",
       "        text-align: right;\n",
       "    }\n",
       "</style>\n",
       "<table border=\"1\" class=\"dataframe\">\n",
       "  <thead>\n",
       "    <tr style=\"text-align: right;\">\n",
       "      <th></th>\n",
       "      <th>img</th>\n",
       "      <th>label</th>\n",
       "      <th>class</th>\n",
       "    </tr>\n",
       "  </thead>\n",
       "  <tbody>\n",
       "    <tr>\n",
       "      <th>0</th>\n",
       "      <td>cell_images/Uninfected/C100P61ThinF_IMG_201509...</td>\n",
       "      <td>Uninfected</td>\n",
       "      <td>0</td>\n",
       "    </tr>\n",
       "    <tr>\n",
       "      <th>1</th>\n",
       "      <td>cell_images/Uninfected/C100P61ThinF_IMG_201509...</td>\n",
       "      <td>Uninfected</td>\n",
       "      <td>0</td>\n",
       "    </tr>\n",
       "    <tr>\n",
       "      <th>2</th>\n",
       "      <td>cell_images/Uninfected/C100P61ThinF_IMG_201509...</td>\n",
       "      <td>Uninfected</td>\n",
       "      <td>0</td>\n",
       "    </tr>\n",
       "    <tr>\n",
       "      <th>3</th>\n",
       "      <td>cell_images/Uninfected/C100P61ThinF_IMG_201509...</td>\n",
       "      <td>Uninfected</td>\n",
       "      <td>0</td>\n",
       "    </tr>\n",
       "    <tr>\n",
       "      <th>4</th>\n",
       "      <td>cell_images/Uninfected/C100P61ThinF_IMG_201509...</td>\n",
       "      <td>Uninfected</td>\n",
       "      <td>0</td>\n",
       "    </tr>\n",
       "  </tbody>\n",
       "</table>\n",
       "</div>"
      ],
      "text/plain": [
       "                                                 img       label  class\n",
       "0  cell_images/Uninfected/C100P61ThinF_IMG_201509...  Uninfected      0\n",
       "1  cell_images/Uninfected/C100P61ThinF_IMG_201509...  Uninfected      0\n",
       "2  cell_images/Uninfected/C100P61ThinF_IMG_201509...  Uninfected      0\n",
       "3  cell_images/Uninfected/C100P61ThinF_IMG_201509...  Uninfected      0\n",
       "4  cell_images/Uninfected/C100P61ThinF_IMG_201509...  Uninfected      0"
      ]
     },
     "execution_count": 9,
     "metadata": {},
     "output_type": "execute_result"
    }
   ],
   "source": [
    "df.head(5)"
   ]
  },
  {
   "cell_type": "markdown",
   "id": "b14ccd2c-dd70-4bb3-b4e6-b900b9a80051",
   "metadata": {},
   "source": [
    "x=[]\n",
    "for img in df['img']: \n",
    "    img=cv2.imread(str(img))\n",
    "    img=cv2.resize(img,(170,170)) \n",
    "    img=img/255.0 \n",
    "    x.append(img)"
   ]
  },
  {
   "cell_type": "markdown",
   "id": "0ad338a9-9cb4-4161-8c07-19826725e272",
   "metadata": {},
   "source": [
    "* datada okunmayan hatalı resimler vardı, onları atlayan bir kod yazdık poeyle, fakat bu sfer train test yaparken datada eşitsizlik oldu dimension farklı göründü,"
   ]
  },
  {
   "cell_type": "code",
   "execution_count": 11,
   "id": "00aa9c32-3284-45af-9948-300dd8ac8588",
   "metadata": {},
   "outputs": [],
   "source": [
    "x=[]\n",
    "for img_path in df['img']:\n",
    "    img = cv2.imread(str(img_path))\n",
    "    if img is not None:\n",
    "        img = cv2.resize(img, (128, 128))\n",
    "        img = img / 255.0\n",
    "        x.append(img)"
   ]
  },
  {
   "cell_type": "code",
   "execution_count": 12,
   "id": "1770445a-23f8-4e21-9841-c3a1bb6b8ebc",
   "metadata": {},
   "outputs": [],
   "source": [
    "x=np.array(x)"
   ]
  },
  {
   "cell_type": "code",
   "execution_count": 13,
   "id": "7696bfc1-67d1-464b-840c-cf7783e6bef5",
   "metadata": {},
   "outputs": [],
   "source": [
    "y=df['class']"
   ]
  },
  {
   "cell_type": "code",
   "execution_count": 14,
   "id": "f6a3305d-f980-43e4-b5f9-7a82830cf1ff",
   "metadata": {},
   "outputs": [
    {
     "name": "stdout",
     "output_type": "stream",
     "text": [
      "18007\n",
      "18008\n"
     ]
    }
   ],
   "source": [
    "print(len(x))\n",
    "print(len(y))\n",
    "# x ve y sayısına bak"
   ]
  },
  {
   "cell_type": "code",
   "execution_count": 15,
   "id": "c522b67a-7889-4dd4-b7fe-24bb4bec364a",
   "metadata": {},
   "outputs": [],
   "source": [
    "# xvey deki örnek sayısı al ikisini eşitle ve train test yap"
   ]
  },
  {
   "cell_type": "code",
   "execution_count": 16,
   "id": "aab7499f-ddda-47ef-9e7d-8655cd6db797",
   "metadata": {},
   "outputs": [],
   "source": [
    "from sklearn.utils import resample\n",
    "\n",
    "n_x_samples = len(x)\n",
    "y_resampled = resample(y, replace=True, n_samples=n_x_samples, random_state=42)"
   ]
  },
  {
   "cell_type": "code",
   "execution_count": 17,
   "id": "61903c14-6eda-4ac5-a71e-5a5c0f795f2c",
   "metadata": {},
   "outputs": [],
   "source": [
    "x_train, x_test, y_train, y_test = train_test_split(x, y_resampled, test_size=0.2, random_state=42)"
   ]
  },
  {
   "cell_type": "code",
   "execution_count": 18,
   "id": "c745cee8-8d89-4459-a360-be72b03251cc",
   "metadata": {},
   "outputs": [],
   "source": [
    "model = Sequential()\n",
    "model.add(Input(shape=(128, 128, 3)))\n",
    "\n",
    "# Daha az filtre ve daha küçük kernel boyutu kullanarak modeli basitleştirebiliriz\n",
    "model.add(Conv2D(16, kernel_size=(3, 3), activation='relu'))\n",
    "model.add(MaxPooling2D(pool_size=(2, 2)))\n",
    "model.add(Conv2D(32, kernel_size=(3, 3), activation='relu'))\n",
    "model.add(MaxPooling2D(pool_size=(2, 2)))\n",
    "model.add(Conv2D(64, kernel_size=(3, 3), activation='relu'))\n",
    "model.add(MaxPooling2D(pool_size=(2, 2)))\n",
    "\n",
    "model.add(Flatten())\n",
    "model.add(Dense(128, activation='relu'))\n",
    "model.add(Dropout(0.3)) # Dropout oranını biraz azalttık\n",
    "model.add(Dense(64, activation='relu'))\n",
    "model.add(Dropout(0.3))\n",
    "model.add(Dense(2, activation='softmax'))\n",
    "\n",
    "model.compile(optimizer='adam', loss='sparse_categorical_crossentropy', metrics=['accuracy'])"
   ]
  },
  {
   "cell_type": "code",
   "execution_count": 19,
   "id": "b62d5e9b-9e73-495d-a228-633481e010cc",
   "metadata": {},
   "outputs": [
    {
     "name": "stdout",
     "output_type": "stream",
     "text": [
      "Epoch 1/50\n",
      "\u001b[1m451/451\u001b[0m \u001b[32m━━━━━━━━━━━━━━━━━━━━\u001b[0m\u001b[37m\u001b[0m \u001b[1m28s\u001b[0m 55ms/step - accuracy: 0.7522 - loss: 0.5740 - val_accuracy: 0.7651 - val_loss: 0.5459\n",
      "Epoch 2/50\n",
      "\u001b[1m451/451\u001b[0m \u001b[32m━━━━━━━━━━━━━━━━━━━━\u001b[0m\u001b[37m\u001b[0m \u001b[1m24s\u001b[0m 54ms/step - accuracy: 0.7710 - loss: 0.5423 - val_accuracy: 0.7651 - val_loss: 0.5470\n",
      "Epoch 3/50\n",
      "\u001b[1m451/451\u001b[0m \u001b[32m━━━━━━━━━━━━━━━━━━━━\u001b[0m\u001b[37m\u001b[0m \u001b[1m23s\u001b[0m 52ms/step - accuracy: 0.7655 - loss: 0.5473 - val_accuracy: 0.7651 - val_loss: 0.5467\n",
      "Epoch 4/50\n",
      "\u001b[1m451/451\u001b[0m \u001b[32m━━━━━━━━━━━━━━━━━━━━\u001b[0m\u001b[37m\u001b[0m \u001b[1m23s\u001b[0m 51ms/step - accuracy: 0.7630 - loss: 0.5482 - val_accuracy: 0.7651 - val_loss: 0.5462\n",
      "Epoch 5/50\n",
      "\u001b[1m451/451\u001b[0m \u001b[32m━━━━━━━━━━━━━━━━━━━━\u001b[0m\u001b[37m\u001b[0m \u001b[1m23s\u001b[0m 51ms/step - accuracy: 0.7662 - loss: 0.5446 - val_accuracy: 0.7651 - val_loss: 0.5470\n",
      "Epoch 6/50\n",
      "\u001b[1m451/451\u001b[0m \u001b[32m━━━━━━━━━━━━━━━━━━━━\u001b[0m\u001b[37m\u001b[0m \u001b[1m24s\u001b[0m 52ms/step - accuracy: 0.7671 - loss: 0.5400 - val_accuracy: 0.7651 - val_loss: 0.5501\n",
      "Epoch 7/50\n",
      "\u001b[1m451/451\u001b[0m \u001b[32m━━━━━━━━━━━━━━━━━━━━\u001b[0m\u001b[37m\u001b[0m \u001b[1m23s\u001b[0m 51ms/step - accuracy: 0.7651 - loss: 0.5359 - val_accuracy: 0.7654 - val_loss: 0.5539\n",
      "Epoch 8/50\n",
      "\u001b[1m451/451\u001b[0m \u001b[32m━━━━━━━━━━━━━━━━━━━━\u001b[0m\u001b[37m\u001b[0m \u001b[1m26s\u001b[0m 57ms/step - accuracy: 0.7745 - loss: 0.5161 - val_accuracy: 0.7657 - val_loss: 0.5622\n",
      "Epoch 9/50\n",
      "\u001b[1m451/451\u001b[0m \u001b[32m━━━━━━━━━━━━━━━━━━━━\u001b[0m\u001b[37m\u001b[0m \u001b[1m22s\u001b[0m 49ms/step - accuracy: 0.7767 - loss: 0.5010 - val_accuracy: 0.7554 - val_loss: 0.5888\n",
      "Epoch 10/50\n",
      "\u001b[1m451/451\u001b[0m \u001b[32m━━━━━━━━━━━━━━━━━━━━\u001b[0m\u001b[37m\u001b[0m \u001b[1m22s\u001b[0m 49ms/step - accuracy: 0.8042 - loss: 0.4502 - val_accuracy: 0.7460 - val_loss: 0.6600\n",
      "Epoch 11/50\n",
      "\u001b[1m451/451\u001b[0m \u001b[32m━━━━━━━━━━━━━━━━━━━━\u001b[0m\u001b[37m\u001b[0m \u001b[1m22s\u001b[0m 50ms/step - accuracy: 0.8345 - loss: 0.3944 - val_accuracy: 0.7365 - val_loss: 0.7344\n",
      "Epoch 12/50\n",
      "\u001b[1m451/451\u001b[0m \u001b[32m━━━━━━━━━━━━━━━━━━━━\u001b[0m\u001b[37m\u001b[0m \u001b[1m23s\u001b[0m 50ms/step - accuracy: 0.8573 - loss: 0.3337 - val_accuracy: 0.7238 - val_loss: 0.7885\n",
      "Epoch 13/50\n",
      "\u001b[1m451/451\u001b[0m \u001b[32m━━━━━━━━━━━━━━━━━━━━\u001b[0m\u001b[37m\u001b[0m \u001b[1m22s\u001b[0m 50ms/step - accuracy: 0.8881 - loss: 0.2836 - val_accuracy: 0.7404 - val_loss: 0.9230\n",
      "Epoch 14/50\n",
      "\u001b[1m451/451\u001b[0m \u001b[32m━━━━━━━━━━━━━━━━━━━━\u001b[0m\u001b[37m\u001b[0m \u001b[1m22s\u001b[0m 49ms/step - accuracy: 0.9130 - loss: 0.2267 - val_accuracy: 0.7127 - val_loss: 1.0734\n",
      "Epoch 15/50\n",
      "\u001b[1m451/451\u001b[0m \u001b[32m━━━━━━━━━━━━━━━━━━━━\u001b[0m\u001b[37m\u001b[0m \u001b[1m22s\u001b[0m 49ms/step - accuracy: 0.9220 - loss: 0.2035 - val_accuracy: 0.7299 - val_loss: 1.2645\n",
      "Epoch 16/50\n",
      "\u001b[1m451/451\u001b[0m \u001b[32m━━━━━━━━━━━━━━━━━━━━\u001b[0m\u001b[37m\u001b[0m \u001b[1m22s\u001b[0m 49ms/step - accuracy: 0.9312 - loss: 0.1872 - val_accuracy: 0.7082 - val_loss: 1.2894\n",
      "Epoch 17/50\n",
      "\u001b[1m451/451\u001b[0m \u001b[32m━━━━━━━━━━━━━━━━━━━━\u001b[0m\u001b[37m\u001b[0m \u001b[1m22s\u001b[0m 50ms/step - accuracy: 0.9419 - loss: 0.1610 - val_accuracy: 0.7110 - val_loss: 1.3492\n",
      "Epoch 18/50\n",
      "\u001b[1m451/451\u001b[0m \u001b[32m━━━━━━━━━━━━━━━━━━━━\u001b[0m\u001b[37m\u001b[0m \u001b[1m22s\u001b[0m 49ms/step - accuracy: 0.9508 - loss: 0.1375 - val_accuracy: 0.6904 - val_loss: 1.4539\n",
      "Epoch 19/50\n",
      "\u001b[1m451/451\u001b[0m \u001b[32m━━━━━━━━━━━━━━━━━━━━\u001b[0m\u001b[37m\u001b[0m \u001b[1m23s\u001b[0m 50ms/step - accuracy: 0.9532 - loss: 0.1257 - val_accuracy: 0.6785 - val_loss: 1.5106\n",
      "Epoch 20/50\n",
      "\u001b[1m451/451\u001b[0m \u001b[32m━━━━━━━━━━━━━━━━━━━━\u001b[0m\u001b[37m\u001b[0m \u001b[1m22s\u001b[0m 49ms/step - accuracy: 0.9500 - loss: 0.1373 - val_accuracy: 0.7085 - val_loss: 1.4885\n",
      "Epoch 21/50\n",
      "\u001b[1m451/451\u001b[0m \u001b[32m━━━━━━━━━━━━━━━━━━━━\u001b[0m\u001b[37m\u001b[0m \u001b[1m23s\u001b[0m 50ms/step - accuracy: 0.9642 - loss: 0.1019 - val_accuracy: 0.7182 - val_loss: 1.5726\n",
      "Epoch 22/50\n",
      "\u001b[1m451/451\u001b[0m \u001b[32m━━━━━━━━━━━━━━━━━━━━\u001b[0m\u001b[37m\u001b[0m \u001b[1m23s\u001b[0m 50ms/step - accuracy: 0.9608 - loss: 0.1079 - val_accuracy: 0.7041 - val_loss: 1.6087\n",
      "Epoch 23/50\n",
      "\u001b[1m451/451\u001b[0m \u001b[32m━━━━━━━━━━━━━━━━━━━━\u001b[0m\u001b[37m\u001b[0m \u001b[1m24s\u001b[0m 53ms/step - accuracy: 0.9658 - loss: 0.0980 - val_accuracy: 0.7035 - val_loss: 1.6337\n",
      "Epoch 24/50\n",
      "\u001b[1m451/451\u001b[0m \u001b[32m━━━━━━━━━━━━━━━━━━━━\u001b[0m\u001b[37m\u001b[0m \u001b[1m23s\u001b[0m 52ms/step - accuracy: 0.9672 - loss: 0.0893 - val_accuracy: 0.7032 - val_loss: 1.6017\n",
      "Epoch 25/50\n",
      "\u001b[1m451/451\u001b[0m \u001b[32m━━━━━━━━━━━━━━━━━━━━\u001b[0m\u001b[37m\u001b[0m \u001b[1m23s\u001b[0m 52ms/step - accuracy: 0.9664 - loss: 0.0931 - val_accuracy: 0.7024 - val_loss: 1.6221\n",
      "Epoch 26/50\n",
      "\u001b[1m451/451\u001b[0m \u001b[32m━━━━━━━━━━━━━━━━━━━━\u001b[0m\u001b[37m\u001b[0m \u001b[1m23s\u001b[0m 52ms/step - accuracy: 0.9697 - loss: 0.0869 - val_accuracy: 0.6979 - val_loss: 1.6067\n",
      "Epoch 27/50\n",
      "\u001b[1m451/451\u001b[0m \u001b[32m━━━━━━━━━━━━━━━━━━━━\u001b[0m\u001b[37m\u001b[0m \u001b[1m23s\u001b[0m 51ms/step - accuracy: 0.9651 - loss: 0.0888 - val_accuracy: 0.7124 - val_loss: 1.7689\n",
      "Epoch 28/50\n",
      "\u001b[1m451/451\u001b[0m \u001b[32m━━━━━━━━━━━━━━━━━━━━\u001b[0m\u001b[37m\u001b[0m \u001b[1m23s\u001b[0m 51ms/step - accuracy: 0.9690 - loss: 0.0827 - val_accuracy: 0.7029 - val_loss: 1.6907\n",
      "Epoch 29/50\n",
      "\u001b[1m451/451\u001b[0m \u001b[32m━━━━━━━━━━━━━━━━━━━━\u001b[0m\u001b[37m\u001b[0m \u001b[1m23s\u001b[0m 51ms/step - accuracy: 0.9733 - loss: 0.0744 - val_accuracy: 0.7188 - val_loss: 1.6721\n",
      "Epoch 30/50\n",
      "\u001b[1m451/451\u001b[0m \u001b[32m━━━━━━━━━━━━━━━━━━━━\u001b[0m\u001b[37m\u001b[0m \u001b[1m24s\u001b[0m 53ms/step - accuracy: 0.9705 - loss: 0.0786 - val_accuracy: 0.7043 - val_loss: 1.7509\n",
      "Epoch 31/50\n",
      "\u001b[1m451/451\u001b[0m \u001b[32m━━━━━━━━━━━━━━━━━━━━\u001b[0m\u001b[37m\u001b[0m \u001b[1m24s\u001b[0m 53ms/step - accuracy: 0.9748 - loss: 0.0751 - val_accuracy: 0.6954 - val_loss: 1.7783\n",
      "Epoch 32/50\n",
      "\u001b[1m451/451\u001b[0m \u001b[32m━━━━━━━━━━━━━━━━━━━━\u001b[0m\u001b[37m\u001b[0m \u001b[1m24s\u001b[0m 52ms/step - accuracy: 0.9762 - loss: 0.0627 - val_accuracy: 0.7035 - val_loss: 1.8967\n",
      "Epoch 33/50\n",
      "\u001b[1m451/451\u001b[0m \u001b[32m━━━━━━━━━━━━━━━━━━━━\u001b[0m\u001b[37m\u001b[0m \u001b[1m23s\u001b[0m 52ms/step - accuracy: 0.9714 - loss: 0.0776 - val_accuracy: 0.6924 - val_loss: 1.8313\n",
      "Epoch 34/50\n",
      "\u001b[1m451/451\u001b[0m \u001b[32m━━━━━━━━━━━━━━━━━━━━\u001b[0m\u001b[37m\u001b[0m \u001b[1m24s\u001b[0m 52ms/step - accuracy: 0.9729 - loss: 0.0719 - val_accuracy: 0.7024 - val_loss: 1.9433\n",
      "Epoch 35/50\n",
      "\u001b[1m451/451\u001b[0m \u001b[32m━━━━━━━━━━━━━━━━━━━━\u001b[0m\u001b[37m\u001b[0m \u001b[1m23s\u001b[0m 52ms/step - accuracy: 0.9774 - loss: 0.0595 - val_accuracy: 0.7004 - val_loss: 1.9023\n",
      "Epoch 36/50\n",
      "\u001b[1m451/451\u001b[0m \u001b[32m━━━━━━━━━━━━━━━━━━━━\u001b[0m\u001b[37m\u001b[0m \u001b[1m23s\u001b[0m 52ms/step - accuracy: 0.9776 - loss: 0.0607 - val_accuracy: 0.7004 - val_loss: 2.1135\n",
      "Epoch 37/50\n",
      "\u001b[1m451/451\u001b[0m \u001b[32m━━━━━━━━━━━━━━━━━━━━\u001b[0m\u001b[37m\u001b[0m \u001b[1m23s\u001b[0m 52ms/step - accuracy: 0.9773 - loss: 0.0596 - val_accuracy: 0.7157 - val_loss: 1.9427\n",
      "Epoch 38/50\n",
      "\u001b[1m451/451\u001b[0m \u001b[32m━━━━━━━━━━━━━━━━━━━━\u001b[0m\u001b[37m\u001b[0m \u001b[1m23s\u001b[0m 52ms/step - accuracy: 0.9744 - loss: 0.0664 - val_accuracy: 0.6974 - val_loss: 1.8445\n",
      "Epoch 39/50\n",
      "\u001b[1m451/451\u001b[0m \u001b[32m━━━━━━━━━━━━━━━━━━━━\u001b[0m\u001b[37m\u001b[0m \u001b[1m23s\u001b[0m 52ms/step - accuracy: 0.9760 - loss: 0.0625 - val_accuracy: 0.6968 - val_loss: 1.8826\n",
      "Epoch 40/50\n",
      "\u001b[1m451/451\u001b[0m \u001b[32m━━━━━━━━━━━━━━━━━━━━\u001b[0m\u001b[37m\u001b[0m \u001b[1m23s\u001b[0m 52ms/step - accuracy: 0.9772 - loss: 0.0591 - val_accuracy: 0.6982 - val_loss: 1.9503\n",
      "Epoch 41/50\n",
      "\u001b[1m451/451\u001b[0m \u001b[32m━━━━━━━━━━━━━━━━━━━━\u001b[0m\u001b[37m\u001b[0m \u001b[1m23s\u001b[0m 52ms/step - accuracy: 0.9777 - loss: 0.0582 - val_accuracy: 0.6979 - val_loss: 1.8755\n",
      "Epoch 42/50\n",
      "\u001b[1m451/451\u001b[0m \u001b[32m━━━━━━━━━━━━━━━━━━━━\u001b[0m\u001b[37m\u001b[0m \u001b[1m23s\u001b[0m 52ms/step - accuracy: 0.9788 - loss: 0.0532 - val_accuracy: 0.6835 - val_loss: 2.0567\n",
      "Epoch 43/50\n",
      "\u001b[1m451/451\u001b[0m \u001b[32m━━━━━━━━━━━━━━━━━━━━\u001b[0m\u001b[37m\u001b[0m \u001b[1m23s\u001b[0m 52ms/step - accuracy: 0.9742 - loss: 0.0644 - val_accuracy: 0.6957 - val_loss: 1.7668\n",
      "Epoch 44/50\n",
      "\u001b[1m451/451\u001b[0m \u001b[32m━━━━━━━━━━━━━━━━━━━━\u001b[0m\u001b[37m\u001b[0m \u001b[1m23s\u001b[0m 52ms/step - accuracy: 0.9786 - loss: 0.0567 - val_accuracy: 0.7146 - val_loss: 2.3562\n",
      "Epoch 45/50\n",
      "\u001b[1m451/451\u001b[0m \u001b[32m━━━━━━━━━━━━━━━━━━━━\u001b[0m\u001b[37m\u001b[0m \u001b[1m23s\u001b[0m 52ms/step - accuracy: 0.9777 - loss: 0.0572 - val_accuracy: 0.6982 - val_loss: 1.9649\n",
      "Epoch 46/50\n",
      "\u001b[1m451/451\u001b[0m \u001b[32m━━━━━━━━━━━━━━━━━━━━\u001b[0m\u001b[37m\u001b[0m \u001b[1m24s\u001b[0m 52ms/step - accuracy: 0.9776 - loss: 0.0605 - val_accuracy: 0.7035 - val_loss: 1.9088\n",
      "Epoch 47/50\n",
      "\u001b[1m451/451\u001b[0m \u001b[32m━━━━━━━━━━━━━━━━━━━━\u001b[0m\u001b[37m\u001b[0m \u001b[1m24s\u001b[0m 53ms/step - accuracy: 0.9769 - loss: 0.0539 - val_accuracy: 0.7085 - val_loss: 2.2186\n",
      "Epoch 48/50\n",
      "\u001b[1m451/451\u001b[0m \u001b[32m━━━━━━━━━━━━━━━━━━━━\u001b[0m\u001b[37m\u001b[0m \u001b[1m23s\u001b[0m 52ms/step - accuracy: 0.9768 - loss: 0.0558 - val_accuracy: 0.7068 - val_loss: 2.1104\n",
      "Epoch 49/50\n",
      "\u001b[1m451/451\u001b[0m \u001b[32m━━━━━━━━━━━━━━━━━━━━\u001b[0m\u001b[37m\u001b[0m \u001b[1m23s\u001b[0m 52ms/step - accuracy: 0.9795 - loss: 0.0539 - val_accuracy: 0.6688 - val_loss: 2.0770\n",
      "Epoch 50/50\n",
      "\u001b[1m451/451\u001b[0m \u001b[32m━━━━━━━━━━━━━━━━━━━━\u001b[0m\u001b[37m\u001b[0m \u001b[1m23s\u001b[0m 52ms/step - accuracy: 0.9763 - loss: 0.0581 - val_accuracy: 0.6999 - val_loss: 1.7853\n"
     ]
    }
   ],
   "source": [
    "history=model.fit(x_train,y_train,validation_data=(x_test,y_test), epochs=50, verbose=1)"
   ]
  },
  {
   "cell_type": "code",
   "execution_count": 20,
   "id": "6245fe20-6e8a-4d3a-ab68-968672c0b8cb",
   "metadata": {},
   "outputs": [
    {
     "name": "stderr",
     "output_type": "stream",
     "text": [
      "WARNING:absl:You are saving your model as an HDF5 file via `model.save()` or `keras.saving.save_model(model)`. This file format is considered legacy. We recommend using instead the native Keras format, e.g. `model.save('my_model.keras')` or `keras.saving.save_model(model, 'my_model.keras')`. \n"
     ]
    }
   ],
   "source": [
    "model.save('malaria_cnn_model.h5')"
   ]
  },
  {
   "cell_type": "code",
   "execution_count": 4,
   "id": "77468c75-639d-4f4b-b99f-7baf4a558c1e",
   "metadata": {},
   "outputs": [],
   "source": [
    "#!pip install opencv-python"
   ]
  },
  {
   "cell_type": "code",
   "execution_count": null,
   "id": "08c4c0e6-4c30-4a7f-9b1c-d712e468347a",
   "metadata": {},
   "outputs": [],
   "source": [
    "#!pip install tensorflow"
   ]
  }
 ],
 "metadata": {
  "kernelspec": {
   "display_name": "Python 3 (ipykernel)",
   "language": "python",
   "name": "python3"
  },
  "language_info": {
   "codemirror_mode": {
    "name": "ipython",
    "version": 3
   },
   "file_extension": ".py",
   "mimetype": "text/x-python",
   "name": "python",
   "nbconvert_exporter": "python",
   "pygments_lexer": "ipython3",
   "version": "3.12.4"
  }
 },
 "nbformat": 4,
 "nbformat_minor": 5
}
